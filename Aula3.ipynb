{
  "nbformat": 4,
  "nbformat_minor": 0,
  "metadata": {
    "colab": {
      "provenance": []
    },
    "kernelspec": {
      "name": "python3",
      "display_name": "Python 3"
    },
    "language_info": {
      "name": "python"
    }
  },
  "cells": [
    {
      "cell_type": "code",
      "execution_count": null,
      "metadata": {
        "colab": {
          "base_uri": "https://localhost:8080/"
        },
        "id": "Txajv2L6HrdZ",
        "outputId": "2f5a70f6-1b16-4777-fba2-8773c9e1ce32"
      },
      "outputs": [
        {
          "output_type": "stream",
          "name": "stdout",
          "text": [
            "Hello World!\n"
          ]
        }
      ],
      "source": [
        "# começando com o clássico Hello World\n",
        "print(\"Hello World!\")"
      ]
    },
    {
      "cell_type": "code",
      "source": [
        "# variáveis\n",
        "idade = 37\n",
        "salario = 703.56\n",
        "nome = \"Letícia\"\n",
        "masculino = False\n",
        "print(idade, salario, nome, masculino)"
      ],
      "metadata": {
        "colab": {
          "base_uri": "https://localhost:8080/"
        },
        "id": "K0XWVaC_H_bW",
        "outputId": "c101466a-b1e4-4354-ad09-383f5a25dabe"
      },
      "execution_count": null,
      "outputs": [
        {
          "output_type": "stream",
          "name": "stdout",
          "text": [
            "37 703.56 Letícia False\n"
          ]
        }
      ]
    },
    {
      "cell_type": "code",
      "source": [
        "# operações com números\n",
        "distancia = 9\n",
        "tempo = 2\n",
        "velocidade = distancia / tempo\n",
        "print(velocidade)"
      ],
      "metadata": {
        "colab": {
          "base_uri": "https://localhost:8080/"
        },
        "id": "E7ZJIZ1QIRGe",
        "outputId": "1aebf848-ad81-4dd5-bf69-e5c96ee164d8"
      },
      "execution_count": null,
      "outputs": [
        {
          "output_type": "stream",
          "name": "stdout",
          "text": [
            "4.5\n"
          ]
        }
      ]
    },
    {
      "cell_type": "code",
      "source": [
        "# Exercício 1: escreva um código que usa duas variáveis, receita e custo, e fala o lucro que a empresa teve\n",
        "receita = 500.23\n",
        "custo = 80.99\n",
        "lucro = receita - custo\n",
        "print(lucro)"
      ],
      "metadata": {
        "colab": {
          "base_uri": "https://localhost:8080/"
        },
        "id": "7x0k39tbLV4V",
        "outputId": "060c7ad4-d701-4c11-e1ab-2e102dcc4388"
      },
      "execution_count": null,
      "outputs": [
        {
          "output_type": "stream",
          "name": "stdout",
          "text": [
            "419.24\n"
          ]
        }
      ]
    },
    {
      "cell_type": "code",
      "source": [
        "# operações com textos\n",
        "nome = \"Letícia\"\n",
        "sobrenome = \"Da Silva\"\n",
        "nome_completo = nome + \" \" + sobrenome\n",
        "print(nome_completo)"
      ],
      "metadata": {
        "colab": {
          "base_uri": "https://localhost:8080/"
        },
        "id": "aZcunkbPIbgo",
        "outputId": "6f340424-9b7f-4133-cfdc-1b5ba6204923"
      },
      "execution_count": null,
      "outputs": [
        {
          "output_type": "stream",
          "name": "stdout",
          "text": [
            "Letícia Da Silva\n"
          ]
        }
      ]
    },
    {
      "cell_type": "code",
      "source": [
        "# juntando textos e variáveis\n",
        "idade = 5\n",
        "print(f\"Tenho {idade} anos\")"
      ],
      "metadata": {
        "colab": {
          "base_uri": "https://localhost:8080/"
        },
        "id": "fGStK5iyL5xC",
        "outputId": "fb7b877a-e449-4aea-a4ed-cf3f2f3e787f"
      },
      "execution_count": null,
      "outputs": [
        {
          "output_type": "stream",
          "name": "stdout",
          "text": [
            "Tenho 5 anos\n"
          ]
        }
      ]
    },
    {
      "cell_type": "code",
      "source": [
        "# operações lógicas e condicionais\n",
        "clima = \"chuva\"\n",
        "dia = \"sábado\"\n",
        "\n",
        "if clima == \"sol\" and (dia == \"sábado\" or dia == \"domingo\"):\n",
        "  print(\"vamos para à praia!\")\n",
        "else:\n",
        "  print(\"melhor ficar em casa\")\n"
      ],
      "metadata": {
        "colab": {
          "base_uri": "https://localhost:8080/"
        },
        "id": "PWeXrb_qIyRU",
        "outputId": "5eb0936f-f45e-4e91-de2e-4db8b0459ed7"
      },
      "execution_count": null,
      "outputs": [
        {
          "output_type": "stream",
          "name": "stdout",
          "text": [
            "melhor ficar em casa\n"
          ]
        }
      ]
    },
    {
      "cell_type": "code",
      "source": [
        "# Exercício 2: escreva um código que, dado uma variável idade, diga qual bebida a pessoa pode beber\n",
        "# maiores de idade bebem cerveja, menores bebem suco!\n",
        "idade = 19\n",
        "if idade >= 18:\n",
        "  print(\"cerveja\")\n",
        "else:\n",
        "  print(\"suco\")"
      ],
      "metadata": {
        "colab": {
          "base_uri": "https://localhost:8080/"
        },
        "id": "uEpNh_sSME3l",
        "outputId": "c2ef9b95-dcd0-4537-e760-850ac504dacb"
      },
      "execution_count": null,
      "outputs": [
        {
          "output_type": "stream",
          "name": "stdout",
          "text": [
            "cerveja\n"
          ]
        }
      ]
    },
    {
      "cell_type": "code",
      "source": [
        "# condicionais mais complexos\n",
        "nivel = \"intermediario\"\n",
        "\n",
        "if nivel == \"basico\":\n",
        "  andar = 10\n",
        "elif nivel == \"intermediario\":\n",
        "  andar = 2\n",
        "else:\n",
        "  andar = 5\n",
        "print(f\"Vá para o andar {andar}!\")"
      ],
      "metadata": {
        "colab": {
          "base_uri": "https://localhost:8080/"
        },
        "id": "CP89FT9VJNsS",
        "outputId": "38ca2aa4-4e96-4821-d1e0-9ea99594f4ef"
      },
      "execution_count": null,
      "outputs": [
        {
          "output_type": "stream",
          "name": "stdout",
          "text": [
            "Vá para o andar 2!\n"
          ]
        }
      ]
    },
    {
      "cell_type": "code",
      "source": [
        "# Funções\n",
        "def media(nota1, nota2, nota3):\n",
        "  nota_final = (nota1 + nota2 + nota3) / 3\n",
        "  return nota_final\n",
        "\n",
        "media_joao = media(70, 90, 20)\n",
        "media_sofia = media(90, 88, 76)\n",
        "media_miguel = media(50, 40, 78)\n",
        "print(media_joao, media_sofia, media_miguel)"
      ],
      "metadata": {
        "colab": {
          "base_uri": "https://localhost:8080/"
        },
        "id": "piX5_xR3J8bS",
        "outputId": "3550361a-0fd5-4e7e-d38e-cbbfd6607fec"
      },
      "execution_count": null,
      "outputs": [
        {
          "output_type": "stream",
          "name": "stdout",
          "text": [
            "60.0 84.66666666666667 56.0\n"
          ]
        }
      ]
    },
    {
      "cell_type": "code",
      "source": [
        "# Exercício 4: usando a função media, crie um código que use as três notas de um aluno e diga qual a situação dele\n",
        "# >= 70 -> aprovado\n",
        "# < 70 e >= 40 -> exame final\n",
        "# < 40 -> reprovado\n",
        "nota1 = 70\n",
        "nota2 = 50\n",
        "nota3 = 99\n",
        "\n",
        "media_aluno = media(nota1, nota2, nota3)\n",
        "if media_aluno >= 70:\n",
        "  print(\"Aprovado!\")\n",
        "elif media_aluno >= 40:\n",
        "  print(\"Exame Final\")\n",
        "else:\n",
        "  print(\"Reprovado...\")"
      ],
      "metadata": {
        "colab": {
          "base_uri": "https://localhost:8080/"
        },
        "id": "GHLSRFDUKJ9-",
        "outputId": "718a5703-00ca-4709-b296-d3f7c2b14350"
      },
      "execution_count": null,
      "outputs": [
        {
          "output_type": "stream",
          "name": "stdout",
          "text": [
            "Aprovado!\n"
          ]
        }
      ]
    },
    {
      "cell_type": "code",
      "source": [
        "# Chamando funções de outras bibliotecas\n",
        "import math\n",
        "raiz2 = math.sqrt(2)\n",
        "print(raiz2)"
      ],
      "metadata": {
        "colab": {
          "base_uri": "https://localhost:8080/"
        },
        "id": "QxtdFIroLHSW",
        "outputId": "35c8a274-f011-43ba-d42b-2d45edfa0b8d"
      },
      "execution_count": null,
      "outputs": [
        {
          "output_type": "stream",
          "name": "stdout",
          "text": [
            "1.4142135623730951\n"
          ]
        }
      ]
    },
    {
      "cell_type": "code",
      "source": [
        "# Exercício 5: imagine um carro parado num semáforo. Faça um código para decidir se ele deve ir ou não\n",
        "cor = \"verde\"\n",
        "if cor == \"verde\":\n",
        "  print(\"VÁ\")\n",
        "else:\n",
        "  print(\"PARE\")"
      ],
      "metadata": {
        "id": "xBqVw4TNOUEo",
        "colab": {
          "base_uri": "https://localhost:8080/"
        },
        "outputId": "0b64d5d5-dc48-4443-d04d-dc71fbd259a0"
      },
      "execution_count": null,
      "outputs": [
        {
          "output_type": "stream",
          "name": "stdout",
          "text": [
            "VÁ\n"
          ]
        }
      ]
    },
    {
      "cell_type": "code",
      "source": [
        "# Exercício 6: faça uma função que recebe a nota do aluno e a nota máxima e retorna a porcentagem de acerto dele\n",
        "def nota_relativa(nota_aluno, nota_maxima):\n",
        "  porcentagem = nota_aluno / nota_maxima\n",
        "  return porcentagem\n",
        "\n",
        "exemplo = nota_relativa(70, 100)\n",
        "print(exemplo)"
      ],
      "metadata": {
        "id": "bCrIHoMwOnuk",
        "colab": {
          "base_uri": "https://localhost:8080/"
        },
        "outputId": "40a78439-1442-47eb-8c69-cd89ba5b2121"
      },
      "execution_count": null,
      "outputs": [
        {
          "output_type": "stream",
          "name": "stdout",
          "text": [
            "0.7\n"
          ]
        }
      ]
    },
    {
      "cell_type": "code",
      "source": [
        "# Exercício 7: faça uma função que recebe um nome e retorne quantas vezes a letra “a” aparece nele\n",
        "def conta_a(nome):\n",
        "  cont = 0\n",
        "  for letra in nome:\n",
        "    if letra == \"a\":\n",
        "      cont = cont + 1\n",
        "  return cont\n",
        "\n",
        "print(conta_a(\"ana leticia\"))"
      ],
      "metadata": {
        "id": "HDhr87RpPQur",
        "colab": {
          "base_uri": "https://localhost:8080/"
        },
        "outputId": "8c15adcf-0a46-4827-d1ab-8444c8566647"
      },
      "execution_count": null,
      "outputs": [
        {
          "output_type": "stream",
          "name": "stdout",
          "text": [
            "3\n"
          ]
        }
      ]
    }
  ]
}