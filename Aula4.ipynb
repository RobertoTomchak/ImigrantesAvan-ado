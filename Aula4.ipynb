{
  "nbformat": 4,
  "nbformat_minor": 0,
  "metadata": {
    "colab": {
      "provenance": []
    },
    "kernelspec": {
      "name": "python3",
      "display_name": "Python 3"
    },
    "language_info": {
      "name": "python"
    }
  },
  "cells": [
    {
      "cell_type": "markdown",
      "source": [
        "# Loops"
      ],
      "metadata": {
        "id": "MZrDpTJzWK7A"
      }
    },
    {
      "cell_type": "code",
      "execution_count": null,
      "metadata": {
        "colab": {
          "base_uri": "https://localhost:8080/"
        },
        "id": "WooeWq4qV8Hb",
        "outputId": "43eeeab5-2135-4c2e-f273-b937b6716f51"
      },
      "outputs": [
        {
          "output_type": "stream",
          "name": "stdout",
          "text": [
            "10\n",
            "9\n",
            "8\n",
            "7\n",
            "6\n",
            "5\n",
            "4\n",
            "3\n",
            "2\n",
            "1\n",
            "0\n",
            "fim\n"
          ]
        }
      ],
      "source": [
        "# Loops com While\n",
        "inicio = 10\n",
        "while inicio >= 0:\n",
        "  print(inicio)\n",
        "  inicio = inicio - 1\n",
        "print(\"fim\")"
      ]
    },
    {
      "cell_type": "code",
      "source": [
        "# Exercício 1: imprima todos os números pares menores que 20 (começando no 0)\n",
        "numero = 0\n",
        "while numero < 20:\n",
        "  print(numero)\n",
        "  numero += 2\n",
        "print(\"fim\")"
      ],
      "metadata": {
        "id": "4gMy7lWWWH-p",
        "colab": {
          "base_uri": "https://localhost:8080/"
        },
        "outputId": "183a243e-a668-462a-c8cd-535e169ffaf4"
      },
      "execution_count": null,
      "outputs": [
        {
          "output_type": "stream",
          "name": "stdout",
          "text": [
            "0\n",
            "2\n",
            "4\n",
            "6\n",
            "8\n",
            "10\n",
            "12\n",
            "14\n",
            "16\n",
            "18\n",
            "fim\n"
          ]
        }
      ]
    },
    {
      "cell_type": "markdown",
      "source": [
        "# Listas"
      ],
      "metadata": {
        "id": "4Tk_Nd5DWO4a"
      }
    },
    {
      "cell_type": "markdown",
      "source": [
        "Uma lista é uma coleção de valores, geralmente do mesmo tipo (por exemplo, vários números juntos). Essa coleção possui uma ordem, ou seja, existe um primeiro item, um segundo item, etc."
      ],
      "metadata": {
        "id": "FsVo8MjuWTXj"
      }
    },
    {
      "cell_type": "code",
      "source": [
        "# Exemplo de lista\n",
        "notas = [90, 87, 65, 31]\n",
        "print(notas)"
      ],
      "metadata": {
        "colab": {
          "base_uri": "https://localhost:8080/"
        },
        "id": "aKAKLH3CWKTi",
        "outputId": "a8fdd0c7-a050-4377-e605-159348d79ec1"
      },
      "execution_count": null,
      "outputs": [
        {
          "output_type": "stream",
          "name": "stdout",
          "text": [
            "[90, 87, 65, 31]\n"
          ]
        }
      ]
    },
    {
      "cell_type": "code",
      "source": [
        "# Acessando valores de uma lista (primeiro item é posição 0, segundo é posiçao 1, ...)\n",
        "notas = [90, 87, 65, 31]\n",
        "print(notas[0])"
      ],
      "metadata": {
        "colab": {
          "base_uri": "https://localhost:8080/"
        },
        "id": "BVTPQUKjW0t9",
        "outputId": "2107e363-d469-457d-ad04-6fc7751ff5aa"
      },
      "execution_count": null,
      "outputs": [
        {
          "output_type": "stream",
          "name": "stdout",
          "text": [
            "90\n"
          ]
        }
      ]
    },
    {
      "cell_type": "code",
      "source": [
        "# Acessando valores de uma lista usando while\n",
        "notas = [90, 87, 65, 31]\n",
        "i = 0\n",
        "while i < 4:\n",
        "  print(notas[i])\n",
        "  i = i + 1"
      ],
      "metadata": {
        "colab": {
          "base_uri": "https://localhost:8080/"
        },
        "id": "Dh1-Pob3dAus",
        "outputId": "4cbe48ab-59dc-4344-d577-234f89c7c5d1"
      },
      "execution_count": null,
      "outputs": [
        {
          "output_type": "stream",
          "name": "stdout",
          "text": [
            "90\n",
            "87\n",
            "65\n",
            "31\n"
          ]
        }
      ]
    },
    {
      "cell_type": "code",
      "source": [
        "# Acessando valores de uma lista usando for\n",
        "notas = [90, 87, 65, 31, 57, 21]\n",
        "for nota in notas:\n",
        "  print(f\"Sua nota foi {nota}\")\n",
        "print(\"fim\")"
      ],
      "metadata": {
        "colab": {
          "base_uri": "https://localhost:8080/"
        },
        "id": "T0p5YinrXFWT",
        "outputId": "d4170bb0-9213-4b49-ea59-e054b056d0e9"
      },
      "execution_count": null,
      "outputs": [
        {
          "output_type": "stream",
          "name": "stdout",
          "text": [
            "Sua nota foi 90\n",
            "Sua nota foi 87\n",
            "Sua nota foi 65\n",
            "Sua nota foi 31\n",
            "Sua nota foi 57\n",
            "Sua nota foi 21\n",
            "fim\n"
          ]
        }
      ]
    },
    {
      "cell_type": "code",
      "source": [
        "# Exercício 2: usando uma lista de preços de produtos,\n",
        "# descubra quantos produtos tem preço maior que 70\n",
        "precos = [90, 15, 43, 71, 66, 74]\n",
        "limite = 70\n",
        "\n",
        "contador = 0\n",
        "for preco in precos:\n",
        "  if preco > limite:\n",
        "    contador += 1\n",
        "print(f\"A quantidade de produtos com preço maior que {limite} é {contador}.\")"
      ],
      "metadata": {
        "colab": {
          "base_uri": "https://localhost:8080/"
        },
        "id": "BblT8H_RXVSb",
        "outputId": "6b514ab7-39c3-44bb-ed7f-0db237719174"
      },
      "execution_count": null,
      "outputs": [
        {
          "output_type": "stream",
          "name": "stdout",
          "text": [
            "A quantidade de produtos com preço maior que 70 é 3.\n"
          ]
        }
      ]
    },
    {
      "cell_type": "markdown",
      "source": [
        "# Métodos de Listas"
      ],
      "metadata": {
        "id": "fQV3HPwbYC8x"
      }
    },
    {
      "cell_type": "markdown",
      "source": [
        "Um método é uma função específica para aquele tipo de variável.\n",
        "\n",
        "Em python, as listas tem vários métodos úteis, que nos ajudam a fazer os cálculos.\n",
        "\n",
        "Para ver todos os métodos, entre em: https://www.w3schools.com/python/python_ref_list.asp"
      ],
      "metadata": {
        "id": "nxu1ztsAYDB5"
      }
    },
    {
      "cell_type": "code",
      "source": [
        "# Adicionando elementos no final de uma lista\n",
        "idades = [18, 90, 34, 50, 12]\n",
        "print(idades)\n",
        "\n",
        "idades.append(20)\n",
        "print(idades)"
      ],
      "metadata": {
        "colab": {
          "base_uri": "https://localhost:8080/"
        },
        "id": "Zr71kiN0YAfm",
        "outputId": "f5be213d-15be-4400-81c0-b7f6aa02f3c0"
      },
      "execution_count": null,
      "outputs": [
        {
          "output_type": "stream",
          "name": "stdout",
          "text": [
            "[18, 90, 34, 50, 12]\n",
            "[18, 90, 34, 50, 12, 20]\n"
          ]
        }
      ]
    },
    {
      "cell_type": "code",
      "source": [
        "# Adicionando várias coisas\n",
        "idades = [90, 17]\n",
        "adicionar = [10, 65, 43]\n",
        "\n",
        "for idade in adicionar:\n",
        "  idades.append(idade)\n",
        "\n",
        "print(idades)"
      ],
      "metadata": {
        "colab": {
          "base_uri": "https://localhost:8080/"
        },
        "id": "4xrX_KQWjP3E",
        "outputId": "a8a53794-ef75-44e6-f541-423c0a8f939d"
      },
      "execution_count": null,
      "outputs": [
        {
          "output_type": "stream",
          "name": "stdout",
          "text": [
            "[90, 17, 10, 65, 43]\n"
          ]
        }
      ]
    },
    {
      "cell_type": "code",
      "source": [
        "# Tamanho de uma lista\n",
        "idades = [18, 90, 34, 50, 10, 12]\n",
        "tamanho = len(idades)\n",
        "print(tamanho)"
      ],
      "metadata": {
        "colab": {
          "base_uri": "https://localhost:8080/"
        },
        "id": "67CnrvdYZFyd",
        "outputId": "83ede1f7-18fb-4e39-b41d-9a28d0c4a291"
      },
      "execution_count": null,
      "outputs": [
        {
          "output_type": "stream",
          "name": "stdout",
          "text": [
            "6\n"
          ]
        }
      ]
    },
    {
      "cell_type": "code",
      "source": [
        "# Contagem de um determinado valor\n",
        "niveis = [\"basico\", \"intermediario\", \"basico\", \"avancado\", \"intermediario\"]\n",
        "contagem = niveis.count(\"avancado\")\n",
        "print(contagem)"
      ],
      "metadata": {
        "colab": {
          "base_uri": "https://localhost:8080/"
        },
        "id": "s2MXs0R2YzCq",
        "outputId": "856d44e1-4502-4f27-c138-42c460abc3ed"
      },
      "execution_count": null,
      "outputs": [
        {
          "output_type": "stream",
          "name": "stdout",
          "text": [
            "1\n"
          ]
        }
      ]
    },
    {
      "cell_type": "code",
      "source": [
        "# Verificando se um valor existe na lista\n",
        "nomes = [\"gabriel\", \"nicolas\", \"pedro\", \"ana\", \"maria\"]\n",
        "if \"gabriel\" in nomes:\n",
        "  print(\"gabriel está na lista\")\n",
        "else:\n",
        "  print(\"gabriel não está na lista\")"
      ],
      "metadata": {
        "colab": {
          "base_uri": "https://localhost:8080/"
        },
        "id": "Ygzhq_T6oLR6",
        "outputId": "9f98ec2b-d9b7-4fab-e38d-92492c125522"
      },
      "execution_count": 5,
      "outputs": [
        {
          "output_type": "stream",
          "name": "stdout",
          "text": [
            "gabriel está na lista\n"
          ]
        }
      ]
    },
    {
      "cell_type": "code",
      "source": [
        "# Remove elemento de lista (só remove a primeira ocorrência)\n",
        "nomes = [\"gabriel\", \"nicolas\", \"pedro\", \"ana\", \"maria\"]\n",
        "nomes.remove(\"gabriel\")\n",
        "print(nomes)"
      ],
      "metadata": {
        "colab": {
          "base_uri": "https://localhost:8080/"
        },
        "id": "r7DJqFzZZP6b",
        "outputId": "04881c3c-37fe-4187-eade-6c7d208d0952"
      },
      "execution_count": 1,
      "outputs": [
        {
          "output_type": "stream",
          "name": "stdout",
          "text": [
            "['nicolas', 'pedro', 'ana', 'maria']\n"
          ]
        }
      ]
    },
    {
      "cell_type": "code",
      "source": [
        "# Removendo todas as ocorrências do valor\n",
        "nomes = [\"gabriel\", \"nicolas\",\"gabriel\", \"pedro\", \"ana\", \"maria\"]\n",
        "while nomes.count(\"gabriel\") > 0:\n",
        "  nomes.remove(\"gabriel\")\n",
        "print(nomes)"
      ],
      "metadata": {
        "colab": {
          "base_uri": "https://localhost:8080/"
        },
        "id": "bHamazXDn6R9",
        "outputId": "faf329db-55b6-4323-ccd9-00d4b782d087"
      },
      "execution_count": 2,
      "outputs": [
        {
          "output_type": "stream",
          "name": "stdout",
          "text": [
            "['nicolas', 'pedro', 'ana', 'maria']\n"
          ]
        }
      ]
    },
    {
      "cell_type": "code",
      "source": [
        "# Soma de elementos de uma lista\n",
        "compras = [17.0, 25.99, 4.50, 21]\n",
        "total = sum(compras)\n",
        "print(total)"
      ],
      "metadata": {
        "colab": {
          "base_uri": "https://localhost:8080/"
        },
        "id": "QWFPJ-ooZltD",
        "outputId": "5adb527c-4d7e-45af-df25-37f19b854c8a"
      },
      "execution_count": null,
      "outputs": [
        {
          "output_type": "stream",
          "name": "stdout",
          "text": [
            "68.49\n"
          ]
        }
      ]
    },
    {
      "cell_type": "code",
      "source": [
        "# Ordenação crescente\n",
        "compras = [17.0, 23.99, 4.50, 21]\n",
        "compras.sort()\n",
        "print(compras)"
      ],
      "metadata": {
        "colab": {
          "base_uri": "https://localhost:8080/"
        },
        "id": "UkJgNsDmaLkM",
        "outputId": "9ff60798-782a-4293-dd55-0e64b449eff8"
      },
      "execution_count": null,
      "outputs": [
        {
          "output_type": "stream",
          "name": "stdout",
          "text": [
            "[4.5, 17.0, 21, 23.99]\n"
          ]
        }
      ]
    },
    {
      "cell_type": "code",
      "source": [
        "# Ordenacao decrescente\n",
        "compras = [17.0, 23.99, 4.50, 21]\n",
        "compras.sort(reverse=True)\n",
        "print(compras)"
      ],
      "metadata": {
        "colab": {
          "base_uri": "https://localhost:8080/"
        },
        "id": "FWODiiMNmUYw",
        "outputId": "dc87e8db-c896-4a89-b4b1-7cd3a5e0f329"
      },
      "execution_count": null,
      "outputs": [
        {
          "output_type": "stream",
          "name": "stdout",
          "text": [
            "[23.99, 21, 17.0, 4.5]\n"
          ]
        }
      ]
    },
    {
      "cell_type": "code",
      "source": [
        "# Exercício 3: calcule a média das notas de uma turma, a partir da lista com essas notas\n",
        "notas = [70, 98, 54, 67, 92]\n",
        "media = sum(notas) / len(notas)\n",
        "print(media)"
      ],
      "metadata": {
        "id": "SE2REvP8ZtHm",
        "colab": {
          "base_uri": "https://localhost:8080/"
        },
        "outputId": "a0901507-1ca6-40ee-903a-48d8339017a8"
      },
      "execution_count": null,
      "outputs": [
        {
          "output_type": "stream",
          "name": "stdout",
          "text": [
            "76.2\n"
          ]
        }
      ]
    },
    {
      "cell_type": "markdown",
      "source": [
        "# Strings (Textos)"
      ],
      "metadata": {
        "id": "9WI-ssaKakYQ"
      }
    },
    {
      "cell_type": "markdown",
      "source": [
        "Strings também são listas, e portanto muito dos métodos de listas podem ser usados com strings.\n",
        "\n",
        "Veja mais em: https://www.w3schools.com/python/python_ref_string.asp"
      ],
      "metadata": {
        "id": "kZoX-DSlakbS"
      }
    },
    {
      "cell_type": "code",
      "source": [
        "# Loop com string\n",
        "nome = \"roberto\"\n",
        "for letra in nome:\n",
        "  print(letra)"
      ],
      "metadata": {
        "colab": {
          "base_uri": "https://localhost:8080/"
        },
        "id": "Z1xudPYjah3T",
        "outputId": "29b91ebf-05cd-40da-a1f5-b8cf6317f06d"
      },
      "execution_count": null,
      "outputs": [
        {
          "output_type": "stream",
          "name": "stdout",
          "text": [
            "r\n",
            "o\n",
            "b\n",
            "e\n",
            "r\n",
            "t\n",
            "o\n"
          ]
        }
      ]
    },
    {
      "cell_type": "code",
      "source": [
        "# Tamanho de string\n",
        "nome = \"robertotomchak\"\n",
        "tamanho = len(nome)\n",
        "print(tamanho)"
      ],
      "metadata": {
        "id": "jGCFlt0qb7Ff",
        "outputId": "b74e4ef5-4cb6-4b13-f4fe-200c89155195",
        "colab": {
          "base_uri": "https://localhost:8080/"
        }
      },
      "execution_count": null,
      "outputs": [
        {
          "output_type": "stream",
          "name": "stdout",
          "text": [
            "14\n"
          ]
        }
      ]
    },
    {
      "cell_type": "code",
      "source": [
        "# Transformando em minúsculo ou maiúsculo\n",
        "nome = \"Roberto Tomchak\"\n",
        "nome_minusculo = nome.lower()\n",
        "print(nome_minusculo)\n",
        "\n",
        "nome_maisculo = nome.upper()\n",
        "print(nome_maisculo)"
      ],
      "metadata": {
        "colab": {
          "base_uri": "https://localhost:8080/"
        },
        "id": "Jbjr1n5faxhQ",
        "outputId": "b8d73c6d-6052-480c-ad9e-8efedc2768f6"
      },
      "execution_count": null,
      "outputs": [
        {
          "output_type": "stream",
          "name": "stdout",
          "text": [
            "roberto tomchak\n",
            "ROBERTO TOMCHAK\n"
          ]
        }
      ]
    },
    {
      "cell_type": "code",
      "source": [
        "# Contando letra\n",
        "nome = \"ana leticia\"\n",
        "contagem = nome.count(\"a\")\n",
        "print(contagem)"
      ],
      "metadata": {
        "colab": {
          "base_uri": "https://localhost:8080/"
        },
        "id": "lzXoDzT_bQ1n",
        "outputId": "86ac07dd-e227-4a92-b5c2-2b74db7354c0"
      },
      "execution_count": null,
      "outputs": [
        {
          "output_type": "stream",
          "name": "stdout",
          "text": [
            "3\n"
          ]
        }
      ]
    },
    {
      "cell_type": "code",
      "source": [
        "# Podemos quebrar uma string em strings menores e guardar em uma lista\n",
        "nome = \"roberto sprengel minozzo tomchak\"\n",
        "separado = nome.split(\" \")\n",
        "print(separado)"
      ],
      "metadata": {
        "colab": {
          "base_uri": "https://localhost:8080/"
        },
        "id": "HITLVOE9bdEq",
        "outputId": "9e095df1-6798-472a-c84d-4e988ecdc069"
      },
      "execution_count": null,
      "outputs": [
        {
          "output_type": "stream",
          "name": "stdout",
          "text": [
            "['roberto', 'sprengel', 'minozzo', 'tomchak']\n"
          ]
        }
      ]
    },
    {
      "cell_type": "code",
      "source": [
        "# Exercício 4: separe uma linha cujo valores estão separados por vírgula e\n",
        "# depois mostre quantos números temos\n",
        "linha = \"15,67,98,13,20\"\n",
        "separado = linha.split(\",\")\n",
        "quantidade = len(separado)\n",
        "print(quantidade)"
      ],
      "metadata": {
        "id": "X91F1dJdbpl_",
        "colab": {
          "base_uri": "https://localhost:8080/"
        },
        "outputId": "a50b1b3a-632f-4ddb-b426-74b1a7484bda"
      },
      "execution_count": 6,
      "outputs": [
        {
          "output_type": "stream",
          "name": "stdout",
          "text": [
            "5\n"
          ]
        }
      ]
    },
    {
      "cell_type": "markdown",
      "source": [
        "# Exercícios"
      ],
      "metadata": {
        "id": "o0iOln06c4E3"
      }
    },
    {
      "cell_type": "code",
      "source": [
        "# Conte quantas pessoas numa lista são maiores de idade\n",
        "idades = [10, 18, 19, 23, 14, 5, 76]\n",
        "\n",
        "contador = 0\n",
        "for idade in idades:\n",
        "  if idade >= 18:\n",
        "    contador += 1\n",
        "print(contador)"
      ],
      "metadata": {
        "id": "-w3eHZS_c3Zy",
        "colab": {
          "base_uri": "https://localhost:8080/"
        },
        "outputId": "418ba863-b177-4c96-b20b-5db5b20d3c4d"
      },
      "execution_count": 11,
      "outputs": [
        {
          "output_type": "stream",
          "name": "stdout",
          "text": [
            "4\n"
          ]
        }
      ]
    },
    {
      "cell_type": "code",
      "source": [
        "# Usando while, imprima todos os números ímpares\n",
        "# entre 15 e 37 (incluindo esses)\n",
        "numero = 15\n",
        "while numero <= 37:\n",
        "  print(numero)\n",
        "  numero += 2\n",
        "\n",
        "# comentários do professor:\n",
        "# 1) lembre-se que a variável deve começar no 15, já que é o primeiro valor\n",
        "# que queremos escrever\n",
        "# 2) assim como os números pares, os ímpares aumentam de 2 em 2, por isso\n",
        "# usamos \"numero += 2\""
      ],
      "metadata": {
        "id": "JEd6GboBc3dI",
        "colab": {
          "base_uri": "https://localhost:8080/"
        },
        "outputId": "b57fb3d9-6731-4b73-def4-ceb8d5b57703"
      },
      "execution_count": 13,
      "outputs": [
        {
          "output_type": "stream",
          "name": "stdout",
          "text": [
            "15\n",
            "17\n",
            "19\n",
            "21\n",
            "23\n",
            "25\n",
            "27\n",
            "29\n",
            "31\n",
            "33\n",
            "35\n",
            "37\n"
          ]
        }
      ]
    },
    {
      "cell_type": "code",
      "source": [
        "# Você tem duas listas, uma com vários nomes e outra\n",
        "# com alguns nomes só\n",
        "# Para cada nome dessa segunda lista, imprima quantas\n",
        "# vezes ele aparece na primeira\n",
        "primeira = [\"gabriel\", \"roberto\", \"julia\", \"roberto\", \"maria\", \"maria\", \"nicolas\"]\n",
        "segunda = [\"roberto\", \"julia\"]\n",
        "\n",
        "for nome in segunda:\n",
        "  quantidade = primeira.count(nome)\n",
        "  print(f\"{nome} aparece {quantidade} vezes na primeira lista\")\n",
        "\n",
        "# comentários do professor:\n",
        "# 1) note que já no enunciado ele fala \"para cada nome da segunda lista\"\n",
        "# que basicamente é a versão traduzida de \"for nome in segunda\""
      ],
      "metadata": {
        "id": "qX-z-QtbdhC1",
        "colab": {
          "base_uri": "https://localhost:8080/"
        },
        "outputId": "8b51be13-6a05-4be8-eaa6-61ec9410d1f2"
      },
      "execution_count": 14,
      "outputs": [
        {
          "output_type": "stream",
          "name": "stdout",
          "text": [
            "roberto aparece 2 vezes na primeira lista\n",
            "julia aparece 1 vezes na primeira lista\n"
          ]
        }
      ]
    }
  ]
}