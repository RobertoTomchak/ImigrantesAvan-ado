{
  "nbformat": 4,
  "nbformat_minor": 0,
  "metadata": {
    "colab": {
      "provenance": []
    },
    "kernelspec": {
      "name": "python3",
      "display_name": "Python 3"
    },
    "language_info": {
      "name": "python"
    }
  },
  "cells": [
    {
      "cell_type": "markdown",
      "source": [
        "# Loops"
      ],
      "metadata": {
        "id": "MZrDpTJzWK7A"
      }
    },
    {
      "cell_type": "code",
      "execution_count": null,
      "metadata": {
        "colab": {
          "base_uri": "https://localhost:8080/"
        },
        "id": "WooeWq4qV8Hb",
        "outputId": "821c96af-576a-410d-ce13-40f25de0299c"
      },
      "outputs": [
        {
          "output_type": "stream",
          "name": "stdout",
          "text": [
            "10\n",
            "9\n",
            "8\n",
            "7\n",
            "6\n",
            "5\n",
            "4\n",
            "3\n",
            "2\n",
            "1\n",
            "0\n"
          ]
        }
      ],
      "source": [
        "# Loops com While\n",
        "inicio = 10\n",
        "while inicio >= 0:\n",
        "  print(inicio)\n",
        "  inicio = inicio - 1"
      ]
    },
    {
      "cell_type": "code",
      "source": [
        "# Exercício 1: imprima todos os números pares menores que 20 (começando no 0)"
      ],
      "metadata": {
        "id": "4gMy7lWWWH-p"
      },
      "execution_count": null,
      "outputs": []
    },
    {
      "cell_type": "markdown",
      "source": [
        "# Listas"
      ],
      "metadata": {
        "id": "4Tk_Nd5DWO4a"
      }
    },
    {
      "cell_type": "markdown",
      "source": [
        "Uma lista é uma coleção de valores, geralmente do mesmo tipo (por exemplo, vários números juntos). Essa coleção possui uma ordem, ou seja, existe um primeiro item, um segundo item, etc."
      ],
      "metadata": {
        "id": "FsVo8MjuWTXj"
      }
    },
    {
      "cell_type": "code",
      "source": [
        "# Exemplo de lista\n",
        "notas = [90, 87, 65, 31]\n",
        "print(notas)"
      ],
      "metadata": {
        "colab": {
          "base_uri": "https://localhost:8080/"
        },
        "id": "aKAKLH3CWKTi",
        "outputId": "c44506ee-2ddb-41c4-9d85-6ece62b5c54d"
      },
      "execution_count": null,
      "outputs": [
        {
          "output_type": "stream",
          "name": "stdout",
          "text": [
            "[90, 87, 65, 31]\n"
          ]
        }
      ]
    },
    {
      "cell_type": "code",
      "source": [
        "# Acessando valores de uma lista (primeiro item é posição 0, segundo é posiçao 1, ...)\n",
        "notas = [90, 87, 65, 31]\n",
        "print(notas[0])"
      ],
      "metadata": {
        "colab": {
          "base_uri": "https://localhost:8080/"
        },
        "id": "BVTPQUKjW0t9",
        "outputId": "b9e7b071-ae42-45d7-95c9-8a14252c80b7"
      },
      "execution_count": null,
      "outputs": [
        {
          "output_type": "stream",
          "name": "stdout",
          "text": [
            "90\n"
          ]
        }
      ]
    },
    {
      "cell_type": "code",
      "source": [
        "# Fazendo um loop com os itens de uma lista\n",
        "notas = [90, 87, 65, 31]\n",
        "for nota in notas:\n",
        "  print(f\"Sua nota foi {nota}\")"
      ],
      "metadata": {
        "colab": {
          "base_uri": "https://localhost:8080/"
        },
        "id": "T0p5YinrXFWT",
        "outputId": "16c9b911-a593-4c85-f5e3-424ae68b2aef"
      },
      "execution_count": null,
      "outputs": [
        {
          "output_type": "stream",
          "name": "stdout",
          "text": [
            "Sua nota foi 90\n",
            "Sua nota foi 87\n",
            "Sua nota foi 65\n",
            "Sua nota foi 31\n"
          ]
        }
      ]
    },
    {
      "cell_type": "code",
      "source": [
        "# Exercício 2: usando uma lista de preços de produtos, descubra quantos produtos tem preço maior que 70\n",
        "precos = [90, 15, 43, 70, 66, 74]\n",
        "contador = 0\n",
        "for preco in precos:\n",
        "  if preco > 70:\n",
        "    contador = contador + 1\n",
        "print(contador)"
      ],
      "metadata": {
        "colab": {
          "base_uri": "https://localhost:8080/"
        },
        "id": "BblT8H_RXVSb",
        "outputId": "933af3ea-cc5f-4272-b1f6-4c8b2b8e3f5f"
      },
      "execution_count": null,
      "outputs": [
        {
          "output_type": "stream",
          "name": "stdout",
          "text": [
            "2\n"
          ]
        }
      ]
    },
    {
      "cell_type": "markdown",
      "source": [
        "# Métodos de Listas"
      ],
      "metadata": {
        "id": "fQV3HPwbYC8x"
      }
    },
    {
      "cell_type": "markdown",
      "source": [
        "Um método é uma função específica para aquele tipo de variável.\n",
        "\n",
        "Em python, as listas tem vários métodos úteis, que nos ajudam a fazer os cálculos.\n",
        "\n",
        "Para ver todos os métodos, entre em: https://www.w3schools.com/python/python_ref_list.asp"
      ],
      "metadata": {
        "id": "nxu1ztsAYDB5"
      }
    },
    {
      "cell_type": "code",
      "source": [
        "# Adicionando elementos no final de uma lista\n",
        "idades = [18, 90, 34, 50, 12]\n",
        "print(idades)\n",
        "\n",
        "idades.append(20)\n",
        "print(idades)"
      ],
      "metadata": {
        "colab": {
          "base_uri": "https://localhost:8080/"
        },
        "id": "Zr71kiN0YAfm",
        "outputId": "85fe1195-85ff-4472-9927-9f8b1ac82e90"
      },
      "execution_count": null,
      "outputs": [
        {
          "output_type": "stream",
          "name": "stdout",
          "text": [
            "[18, 90, 34, 50, 12]\n",
            "[18, 90, 34, 50, 12, 20]\n"
          ]
        }
      ]
    },
    {
      "cell_type": "code",
      "source": [
        "# Tamanho de uma lista\n",
        "idades = [18, 90, 34, 50, 12]\n",
        "tamanho = len(idades)\n",
        "print(tamanho)"
      ],
      "metadata": {
        "colab": {
          "base_uri": "https://localhost:8080/"
        },
        "id": "67CnrvdYZFyd",
        "outputId": "675664db-72c0-42d1-dec2-0c8c98b387c0"
      },
      "execution_count": null,
      "outputs": [
        {
          "output_type": "stream",
          "name": "stdout",
          "text": [
            "5\n"
          ]
        }
      ]
    },
    {
      "cell_type": "code",
      "source": [
        "# Contagem de um determinado valor\n",
        "niveis = [\"basico\", \"intermediario\", \"basico\", \"avancado\", \"intermediario\"]\n",
        "contagem = niveis.count(\"basico\")\n",
        "print(contagem)"
      ],
      "metadata": {
        "colab": {
          "base_uri": "https://localhost:8080/"
        },
        "id": "s2MXs0R2YzCq",
        "outputId": "b58939aa-ec62-491f-e383-a3af9fcea4ef"
      },
      "execution_count": null,
      "outputs": [
        {
          "output_type": "stream",
          "name": "stdout",
          "text": [
            "2\n"
          ]
        }
      ]
    },
    {
      "cell_type": "code",
      "source": [
        "# Remove elemento de lista\n",
        "nomes = [\"gabriel\", \"nicolas\", \"pedro\", \"ana\", \"maria\"]\n",
        "nomes.remove(\"gabriel\")\n",
        "print(nomes)"
      ],
      "metadata": {
        "colab": {
          "base_uri": "https://localhost:8080/"
        },
        "id": "r7DJqFzZZP6b",
        "outputId": "03cd9dea-1e2f-48c3-d761-bd1f6b2a309d"
      },
      "execution_count": null,
      "outputs": [
        {
          "output_type": "stream",
          "name": "stdout",
          "text": [
            "['nicolas', 'pedro', 'ana', 'maria']\n"
          ]
        }
      ]
    },
    {
      "cell_type": "code",
      "source": [
        "# Soma de elementos de uma lista\n",
        "compras = [17.0, 23.99, 4.50, 21]\n",
        "total = sum(compras)\n",
        "print(total)"
      ],
      "metadata": {
        "colab": {
          "base_uri": "https://localhost:8080/"
        },
        "id": "QWFPJ-ooZltD",
        "outputId": "e4a01e28-37df-43e7-e3fb-3864712cd357"
      },
      "execution_count": null,
      "outputs": [
        {
          "output_type": "stream",
          "name": "stdout",
          "text": [
            "66.49\n"
          ]
        }
      ]
    },
    {
      "cell_type": "code",
      "source": [
        "# Ordenação crescente\n",
        "compras = [17.0, 23.99, 4.50, 21]\n",
        "compras.sort()\n",
        "print(compras)"
      ],
      "metadata": {
        "colab": {
          "base_uri": "https://localhost:8080/"
        },
        "id": "UkJgNsDmaLkM",
        "outputId": "402e9293-d657-4fd5-cfb2-da464f58462c"
      },
      "execution_count": null,
      "outputs": [
        {
          "output_type": "stream",
          "name": "stdout",
          "text": [
            "[4.5, 17.0, 21, 23.99]\n"
          ]
        }
      ]
    },
    {
      "cell_type": "code",
      "source": [
        "# Exercício 3: calcule a média das notas de uma turma, a partir da lista com essas notas"
      ],
      "metadata": {
        "id": "SE2REvP8ZtHm"
      },
      "execution_count": null,
      "outputs": []
    },
    {
      "cell_type": "markdown",
      "source": [
        "# Strings (Textos)"
      ],
      "metadata": {
        "id": "9WI-ssaKakYQ"
      }
    },
    {
      "cell_type": "markdown",
      "source": [
        "Strings também são listas, e portanto muito dos métodos de listas podem ser usados com strings.\n",
        "\n",
        "Veja mais em: https://www.w3schools.com/python/python_ref_string.asp"
      ],
      "metadata": {
        "id": "kZoX-DSlakbS"
      }
    },
    {
      "cell_type": "code",
      "source": [
        "# Loop com string\n",
        "nome = \"roberto\"\n",
        "for letra in nome:\n",
        "  print(letra)"
      ],
      "metadata": {
        "colab": {
          "base_uri": "https://localhost:8080/"
        },
        "id": "Z1xudPYjah3T",
        "outputId": "29b91ebf-05cd-40da-a1f5-b8cf6317f06d"
      },
      "execution_count": null,
      "outputs": [
        {
          "output_type": "stream",
          "name": "stdout",
          "text": [
            "r\n",
            "o\n",
            "b\n",
            "e\n",
            "r\n",
            "t\n",
            "o\n"
          ]
        }
      ]
    },
    {
      "cell_type": "code",
      "source": [
        "# Tamanho de string\n",
        "nome = \"roberto\"\n",
        "tamanho = len(nome)\n",
        "print(tamanho)"
      ],
      "metadata": {
        "id": "jGCFlt0qb7Ff",
        "outputId": "642e62b6-b953-46e9-9084-101a0c74d36f",
        "colab": {
          "base_uri": "https://localhost:8080/"
        }
      },
      "execution_count": null,
      "outputs": [
        {
          "output_type": "stream",
          "name": "stdout",
          "text": [
            "7\n"
          ]
        }
      ]
    },
    {
      "cell_type": "code",
      "source": [
        "# Transformando em minúsculo ou maiúsculo\n",
        "nome = \"Roberto Tomchak\"\n",
        "nome_minusculo = nome.lower()\n",
        "print(nome_minusculo)\n",
        "\n",
        "nome_maisculo = nome.upper()\n",
        "print(nome_maisculo)"
      ],
      "metadata": {
        "colab": {
          "base_uri": "https://localhost:8080/"
        },
        "id": "Jbjr1n5faxhQ",
        "outputId": "0984887e-fdd3-4420-d15c-be5e21f8fa48"
      },
      "execution_count": null,
      "outputs": [
        {
          "output_type": "stream",
          "name": "stdout",
          "text": [
            "roberto tomchak\n",
            "ROBERTO TOMCHAK\n"
          ]
        }
      ]
    },
    {
      "cell_type": "code",
      "source": [
        "# Contando letra\n",
        "nome = \"ana leticia\"\n",
        "contagem = nome.count(\"a\")\n",
        "print(contagem)"
      ],
      "metadata": {
        "colab": {
          "base_uri": "https://localhost:8080/"
        },
        "id": "lzXoDzT_bQ1n",
        "outputId": "86ac07dd-e227-4a92-b5c2-2b74db7354c0"
      },
      "execution_count": null,
      "outputs": [
        {
          "output_type": "stream",
          "name": "stdout",
          "text": [
            "3\n"
          ]
        }
      ]
    },
    {
      "cell_type": "code",
      "source": [
        "# Podemos quebrar uma string em strings menores e guardar uma lista\n",
        "nome = \"roberto sprengel minozzo tomchak\"\n",
        "separado = nome.split(\" \")\n",
        "print(separado)"
      ],
      "metadata": {
        "colab": {
          "base_uri": "https://localhost:8080/"
        },
        "id": "HITLVOE9bdEq",
        "outputId": "9e095df1-6798-472a-c84d-4e988ecdc069"
      },
      "execution_count": null,
      "outputs": [
        {
          "output_type": "stream",
          "name": "stdout",
          "text": [
            "['roberto', 'sprengel', 'minozzo', 'tomchak']\n"
          ]
        }
      ]
    },
    {
      "cell_type": "code",
      "source": [
        "# Exercício 4: separe uma linha cujo valores estão separados por vírgula e depois mostre quantos números temos"
      ],
      "metadata": {
        "id": "X91F1dJdbpl_"
      },
      "execution_count": null,
      "outputs": []
    },
    {
      "cell_type": "markdown",
      "source": [
        "# Exercícios"
      ],
      "metadata": {
        "id": "o0iOln06c4E3"
      }
    },
    {
      "cell_type": "code",
      "source": [
        "# Conte quantas pessoas numa lista são maiores de idade\n",
        "idades = [10, 18, 19, 23, 14, 5, 76]"
      ],
      "metadata": {
        "id": "-w3eHZS_c3Zy"
      },
      "execution_count": 30,
      "outputs": []
    },
    {
      "cell_type": "code",
      "source": [
        "# Usando while, imprima todos os números ímpares entre 15 e 37 (incluindo esses)"
      ],
      "metadata": {
        "id": "JEd6GboBc3dI"
      },
      "execution_count": 31,
      "outputs": []
    },
    {
      "cell_type": "code",
      "source": [
        "# Você tem duas listas, uma com vários nomes e outra com alguns nomes só\n",
        "# Para cada nome dessa segunda lista, imprima quantas vezes ele aparece na primeira\n",
        "primeira = [\"gabriel\", \"roberto\", \"julia\", \"roberto\", \"maria\", \"maria\", \"nicolas\"]\n",
        "segunda = [\"roberto\", \"julia\"]"
      ],
      "metadata": {
        "id": "qX-z-QtbdhC1"
      },
      "execution_count": 34,
      "outputs": []
    }
  ]
}