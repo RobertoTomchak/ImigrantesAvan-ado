{
  "nbformat": 4,
  "nbformat_minor": 0,
  "metadata": {
    "colab": {
      "provenance": []
    },
    "kernelspec": {
      "name": "python3",
      "display_name": "Python 3"
    },
    "language_info": {
      "name": "python"
    }
  },
  "cells": [
    {
      "cell_type": "markdown",
      "source": [
        "# Proporção, Porcentagem e Probabilidade"
      ],
      "metadata": {
        "id": "ULvaKQShZrZ2"
      }
    },
    {
      "cell_type": "code",
      "source": [
        "# Proporção\n",
        "ganhos = 10\n",
        "perdidos = 3"
      ],
      "metadata": {
        "id": "PeRo5e_mSKvI"
      },
      "execution_count": 5,
      "outputs": []
    },
    {
      "cell_type": "code",
      "source": [
        "# Porcentagem\n",
        "ganhos = 10\n",
        "perdidos = 3"
      ],
      "metadata": {
        "id": "093MTLVEZtjY"
      },
      "execution_count": 6,
      "outputs": []
    },
    {
      "cell_type": "code",
      "source": [
        "# Probabilidade\n",
        "dias_chuva = 9\n",
        "dias_mes = 30"
      ],
      "metadata": {
        "id": "VWH0SmCyZ-Kf"
      },
      "execution_count": 8,
      "outputs": []
    },
    {
      "cell_type": "markdown",
      "source": [
        "# Média, Mediana e Moda"
      ],
      "metadata": {
        "id": "sQ0rwYfcaJdJ"
      }
    },
    {
      "cell_type": "code",
      "source": [
        "# biblioteca útil para calcular estatísticas\n",
        "import statistics"
      ],
      "metadata": {
        "id": "SrHz2iEeaFSy"
      },
      "execution_count": 9,
      "outputs": []
    },
    {
      "cell_type": "code",
      "source": [
        "# Média\n",
        "idades1 = [10, 8, 12, 10]"
      ],
      "metadata": {
        "id": "Bw6QE6dyaRnS"
      },
      "execution_count": 23,
      "outputs": []
    },
    {
      "cell_type": "code",
      "source": [
        "# cuidado ao usar a média! Listas de dados diferentes podem ter a mesma média"
      ],
      "metadata": {
        "id": "T48C6M9AaeSg"
      },
      "execution_count": 11,
      "outputs": []
    },
    {
      "cell_type": "code",
      "source": [
        "# Calculando média de muitos dados\n",
        "# não se preocupe em entender esse \"valores\"\n",
        "valores = [21, 24, 22, 21, 21, 24, 23, 24, 19, 21, 18, 23, 21, 24, 18, 19,\n",
        "           22, 22, 20, 23, 21, 20, 19, 23, 18, 20, 19, 24, 24, 21, 18, 23,\n",
        "           22, 19, 18, 19, 23, 18, 21, 20, 18, 24, 21, 23, 18, 23, 21, 22,\n",
        "           24, 21, 21, 24, 18, 23, 22, 22, 18, 23, 22, 23, 18, 22, 21, 22,\n",
        "           23, 23, 20, 24, 23, 22, 20, 21, 24, 18, 24, 18, 20, 24, 24, 21,\n",
        "           22, 21, 22, 24, 21, 22, 19, 22, 20, 24, 24, 22, 21, 18, 23, 18,\n",
        "           19, 23, 19, 19]"
      ],
      "metadata": {
        "colab": {
          "base_uri": "https://localhost:8080/"
        },
        "id": "Fa2KYLJvapTh",
        "outputId": "a210fa76-e644-47b5-813a-5ff9328e1d91"
      },
      "execution_count": 16,
      "outputs": [
        {
          "output_type": "stream",
          "name": "stdout",
          "text": [
            "21.26\n"
          ]
        }
      ]
    },
    {
      "cell_type": "code",
      "source": [
        "# Mediana"
      ],
      "metadata": {
        "id": "x4xkyZpLbHn1"
      },
      "execution_count": 19,
      "outputs": []
    },
    {
      "cell_type": "code",
      "source": [
        "# Média vs Mediana\n",
        "salarios = [1000, 4500, 3000, 30000]\n",
        "print(f\"Média: {statistics.mean(salarios)}\")\n",
        "print(f\"Mediana: {statistics.median(salarios)}\")"
      ],
      "metadata": {
        "colab": {
          "base_uri": "https://localhost:8080/"
        },
        "id": "rvOqGRwQgdA_",
        "outputId": "3862816a-6a1b-4980-cca8-4e9b0e36a523"
      },
      "execution_count": 41,
      "outputs": [
        {
          "output_type": "stream",
          "name": "stdout",
          "text": [
            "Média: 9625\n",
            "Mediana: 3750.0\n"
          ]
        }
      ]
    },
    {
      "cell_type": "code",
      "source": [
        "# Moda"
      ],
      "metadata": {
        "id": "GRNyhqjXbaGI"
      },
      "execution_count": 22,
      "outputs": []
    },
    {
      "cell_type": "markdown",
      "source": [
        "# Variância e Desvio Padrão"
      ],
      "metadata": {
        "id": "TLVti5H3bjtW"
      }
    },
    {
      "cell_type": "code",
      "source": [
        "# Variância"
      ],
      "metadata": {
        "id": "dmsEAlpkbd6o"
      },
      "execution_count": 30,
      "outputs": []
    },
    {
      "cell_type": "code",
      "source": [
        "# Desvio Padrão"
      ],
      "metadata": {
        "id": "E6OTmToCbv4k"
      },
      "execution_count": 24,
      "outputs": []
    },
    {
      "cell_type": "code",
      "source": [
        "# Desvio Padrão de Listas diferentes que tem a mesma média"
      ],
      "metadata": {
        "id": "rfcWEUl_bxG2"
      },
      "execution_count": 25,
      "outputs": []
    },
    {
      "cell_type": "markdown",
      "source": [
        "# Métricas"
      ],
      "metadata": {
        "id": "7d6wLg7icGo9"
      }
    },
    {
      "cell_type": "code",
      "source": [
        "# acurácia"
      ],
      "metadata": {
        "id": "yOLCQ7NtcGF2"
      },
      "execution_count": 31,
      "outputs": []
    },
    {
      "cell_type": "code",
      "source": [
        "# margem de erro"
      ],
      "metadata": {
        "id": "TvavJ9U1b0S1"
      },
      "execution_count": 33,
      "outputs": []
    },
    {
      "cell_type": "markdown",
      "source": [
        "# Exercícios"
      ],
      "metadata": {
        "id": "UwiHNmv9cjaW"
      }
    },
    {
      "cell_type": "code",
      "source": [
        "# a lista abaixo diz se uma certa pessoa estava doente ou não\n",
        "# qual a porcentagem de doentes?\n",
        "doente = [True, False, False, False, True, True, False, True]"
      ],
      "metadata": {
        "id": "MMm4_cyVcknY"
      },
      "execution_count": 35,
      "outputs": []
    },
    {
      "cell_type": "code",
      "source": [
        "# abaixo estão duas listas\n",
        "# doente diz se a pessoa estava doente ou não\n",
        "# exame diz o que o resultado do exame disse sobre a pessoa\n",
        "# qual a acurácia desse teste?\n",
        "doente = [True, False, False, False, True, True, False, True]\n",
        "exame  = [True, True, False, False, False, True, False, True]"
      ],
      "metadata": {
        "id": "bdbQpb-Ge4Iw"
      },
      "execution_count": 36,
      "outputs": []
    },
    {
      "cell_type": "code",
      "source": [
        "# uma empresa decidiu fechar todas as lojas que tiveram\n",
        "# lucro abaixo da média\n",
        "# quantas lojas serão fechadas?\n",
        "lojas = [55, 10, 3, 50, 5, 30, 39, 1, 9]"
      ],
      "metadata": {
        "id": "PsvcBJvjfHsW"
      },
      "execution_count": 39,
      "outputs": []
    },
    {
      "cell_type": "code",
      "source": [
        "# o batimento cardíaco ideal em descanso é 70\n",
        "# mas se tiver uma margem de erro de até 25% ainda é aceitável\n",
        "# quantas pessoas estão com batimento dentro do aceitável?\n",
        "batimentos = [70, 90, 77, 81, 50, 60, 73]"
      ],
      "metadata": {
        "id": "VUZhIswFfa-U"
      },
      "execution_count": 40,
      "outputs": []
    }
  ]
}