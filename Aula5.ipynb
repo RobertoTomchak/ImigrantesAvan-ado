{
  "nbformat": 4,
  "nbformat_minor": 0,
  "metadata": {
    "colab": {
      "provenance": []
    },
    "kernelspec": {
      "name": "python3",
      "display_name": "Python 3"
    },
    "language_info": {
      "name": "python"
    }
  },
  "cells": [
    {
      "cell_type": "markdown",
      "source": [
        "# Proporção, Porcentagem e Probabilidade"
      ],
      "metadata": {
        "id": "ULvaKQShZrZ2"
      }
    },
    {
      "cell_type": "code",
      "source": [
        "# Proporção\n",
        "ganhos = 10\n",
        "empates = 0\n",
        "perdidos = 3\n",
        "\n",
        "total = ganhos + empates + perdidos\n",
        "\n",
        "taxa = ganhos / total\n",
        "\n",
        "print(round(taxa, 3))"
      ],
      "metadata": {
        "id": "PeRo5e_mSKvI",
        "colab": {
          "base_uri": "https://localhost:8080/"
        },
        "outputId": "7c59c8a9-593f-465e-d991-5bb033c535d9"
      },
      "execution_count": null,
      "outputs": [
        {
          "output_type": "stream",
          "name": "stdout",
          "text": [
            "0.769\n"
          ]
        }
      ]
    },
    {
      "cell_type": "code",
      "source": [
        "# Porcentagem\n",
        "ganhos = 10\n",
        "empates = 0\n",
        "perdidos = 3\n",
        "\n",
        "total = ganhos + empates + perdidos\n",
        "\n",
        "taxa = ganhos / total\n",
        "\n",
        "porcentagem = taxa * 100\n",
        "\n",
        "print(f\"{round(porcentagem, 0)}%\")"
      ],
      "metadata": {
        "id": "093MTLVEZtjY",
        "colab": {
          "base_uri": "https://localhost:8080/"
        },
        "outputId": "bbb6b3e5-8380-474a-f966-05fce2aefc5c"
      },
      "execution_count": null,
      "outputs": [
        {
          "output_type": "stream",
          "name": "stdout",
          "text": [
            "77.0%\n"
          ]
        }
      ]
    },
    {
      "cell_type": "code",
      "source": [
        "# Probabilidade\n",
        "dias_chuva = 9\n",
        "dias_mes = 30\n",
        "\n",
        "probabilidade = 100 * dias_chuva / dias_mes\n",
        "\n",
        "print(f\"A chance de chover é de {round(probabilidade, 2)}%\")"
      ],
      "metadata": {
        "id": "VWH0SmCyZ-Kf",
        "colab": {
          "base_uri": "https://localhost:8080/"
        },
        "outputId": "6208bd8a-e1e5-4a15-c742-cc77fc5af2ed"
      },
      "execution_count": null,
      "outputs": [
        {
          "output_type": "stream",
          "name": "stdout",
          "text": [
            "A chance de chover é de 30.0%\n"
          ]
        }
      ]
    },
    {
      "cell_type": "markdown",
      "source": [
        "# Média, Mediana e Moda"
      ],
      "metadata": {
        "id": "sQ0rwYfcaJdJ"
      }
    },
    {
      "cell_type": "code",
      "source": [
        "# biblioteca útil para calcular estatísticas\n",
        "import statistics as stat"
      ],
      "metadata": {
        "id": "SrHz2iEeaFSy"
      },
      "execution_count": null,
      "outputs": []
    },
    {
      "cell_type": "code",
      "source": [
        "# Média\n",
        "idades1 = [10, 8, 12, 10]\n",
        "\n",
        "media1 = sum(idades1) / len(idades1)\n",
        "media2 = stat.mean(idades1)\n",
        "\n",
        "print(media1)\n",
        "print(media2)"
      ],
      "metadata": {
        "id": "Bw6QE6dyaRnS",
        "colab": {
          "base_uri": "https://localhost:8080/"
        },
        "outputId": "7de63153-8607-4fec-8340-49f276f790f2"
      },
      "execution_count": null,
      "outputs": [
        {
          "output_type": "stream",
          "name": "stdout",
          "text": [
            "10.0\n",
            "10\n"
          ]
        }
      ]
    },
    {
      "cell_type": "code",
      "source": [
        "# cuidado ao usar a média! Listas de dados diferentes podem ter a mesma média\n",
        "idades1 = [8, 10, 12, 10]\n",
        "idades2 = [2, 20, 8, 10]\n",
        "\n",
        "print(stat.mean(idades1))\n",
        "print(stat.mean(idades2))"
      ],
      "metadata": {
        "id": "T48C6M9AaeSg",
        "colab": {
          "base_uri": "https://localhost:8080/"
        },
        "outputId": "cad98e39-748b-435c-bcea-ac79fdf5fe71"
      },
      "execution_count": null,
      "outputs": [
        {
          "output_type": "stream",
          "name": "stdout",
          "text": [
            "10\n",
            "10\n"
          ]
        }
      ]
    },
    {
      "cell_type": "code",
      "source": [
        "# Calculando média de muitos dados\n",
        "# não se preocupe em entender esse \"valores\"\n",
        "muitos_valores = [21, 24, 22, 21, 21, 24, 23, 24, 19, 21, 18, 23, 21, 24, 18, 19,\n",
        "           22, 22, 20, 23, 21, 20, 19, 23, 18, 20, 19, 24, 24, 21, 18, 23,\n",
        "           22, 19, 18, 19, 23, 18, 21, 20, 18, 24, 21, 23, 18, 23, 21, 22,\n",
        "           24, 21, 21, 24, 18, 23, 22, 22, 18, 23, 22, 23, 18, 22, 21, 22,\n",
        "           23, 23, 20, 24, 23, 22, 20, 21, 24, 18, 24, 18, 20, 24, 24, 21,\n",
        "           22, 21, 22, 24, 21, 22, 19, 22, 20, 24, 24, 22, 21, 18, 23, 18,\n",
        "           19, 23, 19, 19]\n",
        "print(stat.mean(muitos_valores))"
      ],
      "metadata": {
        "colab": {
          "base_uri": "https://localhost:8080/"
        },
        "id": "Fa2KYLJvapTh",
        "outputId": "b161d3b9-b659-489e-b086-a7633c63be85"
      },
      "execution_count": null,
      "outputs": [
        {
          "output_type": "stream",
          "name": "stdout",
          "text": [
            "21.26\n"
          ]
        }
      ]
    },
    {
      "cell_type": "code",
      "source": [
        "# Mediana\n",
        "valores = [21, 23, 19, 22, 22]\n",
        "print(f\"Media: {stat.mean(valores)}\")\n",
        "print(f\"Mediana: {stat.median(valores)}\")"
      ],
      "metadata": {
        "id": "x4xkyZpLbHn1",
        "colab": {
          "base_uri": "https://localhost:8080/"
        },
        "outputId": "61a091cd-4adf-438f-a90c-e0c511b80b23"
      },
      "execution_count": null,
      "outputs": [
        {
          "output_type": "stream",
          "name": "stdout",
          "text": [
            "Media: 21.4\n",
            "Mediana: 22\n"
          ]
        }
      ]
    },
    {
      "cell_type": "code",
      "source": [
        "# Média vs Mediana\n",
        "salarios = [1000, 4500, 3000, 100000]\n",
        "print(f\"Média: {stat.mean(salarios)}\")\n",
        "print(f\"Mediana: {stat.median(salarios)}\")"
      ],
      "metadata": {
        "colab": {
          "base_uri": "https://localhost:8080/"
        },
        "id": "rvOqGRwQgdA_",
        "outputId": "2fb4679d-68ec-4ae8-d8ae-690c57688cee"
      },
      "execution_count": null,
      "outputs": [
        {
          "output_type": "stream",
          "name": "stdout",
          "text": [
            "Média: 27125\n",
            "Mediana: 3750.0\n"
          ]
        }
      ]
    },
    {
      "cell_type": "code",
      "source": [
        "# Moda\n",
        "valores = [21, 23, 19, 22, 22]\n",
        "moda = stat.mode(valores)\n",
        "print(moda)"
      ],
      "metadata": {
        "id": "GRNyhqjXbaGI",
        "colab": {
          "base_uri": "https://localhost:8080/"
        },
        "outputId": "cc1963dc-2a16-4810-9542-b1b6c94479b0"
      },
      "execution_count": null,
      "outputs": [
        {
          "output_type": "stream",
          "name": "stdout",
          "text": [
            "22\n"
          ]
        }
      ]
    },
    {
      "cell_type": "code",
      "source": [
        "# Moda de muitos valores\n",
        "print(stat.mode(muitos_valores))"
      ],
      "metadata": {
        "colab": {
          "base_uri": "https://localhost:8080/"
        },
        "id": "XGBH5u4Xl1eg",
        "outputId": "65989fde-ba18-43e1-c5f5-ef9a1c4b1e26"
      },
      "execution_count": null,
      "outputs": [
        {
          "output_type": "stream",
          "name": "stdout",
          "text": [
            "21\n"
          ]
        }
      ]
    },
    {
      "cell_type": "code",
      "source": [
        "salarios = [700, 10000, 12000]\n",
        "print(stat.mean(salarios))"
      ],
      "metadata": {
        "colab": {
          "base_uri": "https://localhost:8080/"
        },
        "id": "Tz4tWRJxmSC1",
        "outputId": "92ae8fc4-ad2d-4628-f513-61b4fa8f2fa3"
      },
      "execution_count": null,
      "outputs": [
        {
          "output_type": "stream",
          "name": "stdout",
          "text": [
            "7566.666666666667\n"
          ]
        }
      ]
    },
    {
      "cell_type": "markdown",
      "source": [
        "# Variância e Desvio Padrão"
      ],
      "metadata": {
        "id": "TLVti5H3bjtW"
      }
    },
    {
      "cell_type": "code",
      "source": [
        "idades1 = [10, 8, 12, 10]\n",
        "idades2 = [2, 20, 8, 10]"
      ],
      "metadata": {
        "id": "ON86IRguoKVp"
      },
      "execution_count": null,
      "outputs": []
    },
    {
      "cell_type": "code",
      "source": [
        "# Variância\n",
        "var1 = stat.variance(idades1)\n",
        "var2 = stat.variance(idades2)\n",
        "print(var1)\n",
        "print(var2)"
      ],
      "metadata": {
        "id": "dmsEAlpkbd6o",
        "colab": {
          "base_uri": "https://localhost:8080/"
        },
        "outputId": "0fdac45c-b987-4617-9a81-2c06e1b0cd2a"
      },
      "execution_count": null,
      "outputs": [
        {
          "output_type": "stream",
          "name": "stdout",
          "text": [
            "2.6666666666666665\n",
            "56\n"
          ]
        }
      ]
    },
    {
      "cell_type": "code",
      "source": [
        "# Desvio Padrão\n",
        "desvio1 = stat.stdev(idades1)\n",
        "desvio2 = stat.stdev(idades2)\n",
        "\n",
        "print(desvio1)\n",
        "print(desvio2)"
      ],
      "metadata": {
        "id": "E6OTmToCbv4k",
        "colab": {
          "base_uri": "https://localhost:8080/"
        },
        "outputId": "49f893a7-0814-4442-ee81-3fd98a4b3ddf"
      },
      "execution_count": null,
      "outputs": [
        {
          "output_type": "stream",
          "name": "stdout",
          "text": [
            "1.632993161855452\n",
            "7.483314773547883\n"
          ]
        }
      ]
    },
    {
      "cell_type": "code",
      "source": [
        "# É bem comum usar média e desvio padrão juntos\n",
        "salarios = [1000, 3100, 1200, 100000]\n",
        "media = stat.mean(salarios)\n",
        "desvio = stat.stdev(salarios)\n",
        "print(media, desvio)\n",
        "print(f\"[{media - desvio}, {media + desvio}]\")"
      ],
      "metadata": {
        "colab": {
          "base_uri": "https://localhost:8080/"
        },
        "id": "zkRkILYEqBvE",
        "outputId": "a621d6ee-f7cb-4d70-b24f-a50ba4d23d42"
      },
      "execution_count": null,
      "outputs": [
        {
          "output_type": "stream",
          "name": "stdout",
          "text": [
            "26325 49125.78243651698\n",
            "[-22800.78243651698, 75450.78243651698]\n"
          ]
        }
      ]
    },
    {
      "cell_type": "markdown",
      "source": [
        "# Métricas"
      ],
      "metadata": {
        "id": "7d6wLg7icGo9"
      }
    },
    {
      "cell_type": "code",
      "source": [
        "# acurácia\n",
        "doentes_total = 13\n",
        "saudaveis_total = 7\n",
        "\n",
        "doentes_positivo = 11\n",
        "doentes_negativo = doentes_total - doentes_positivo\n",
        "saudaveis_positivo = 3\n",
        "saudaveis_negativo = saudaveis_total - saudaveis_positivo\n",
        "\n",
        "acuracia = 100 * (doentes_positivo + saudaveis_negativo) / (doentes_total + saudaveis_total)\n",
        "print(f\"{round(acuracia, 2)}%\")"
      ],
      "metadata": {
        "id": "yOLCQ7NtcGF2",
        "colab": {
          "base_uri": "https://localhost:8080/"
        },
        "outputId": "f9391a62-f00f-4dfe-ef1f-0db834523263"
      },
      "execution_count": null,
      "outputs": [
        {
          "output_type": "stream",
          "name": "stdout",
          "text": [
            "75.0%\n"
          ]
        }
      ]
    },
    {
      "cell_type": "code",
      "source": [
        "# margem de erro\n",
        "correto = 11.7\n",
        "calculado = 10.4\n",
        "\n",
        "erro = 100 * (calculado - correto) / correto\n",
        "print(f\"{round(erro, 2)}%\")"
      ],
      "metadata": {
        "id": "TvavJ9U1b0S1",
        "colab": {
          "base_uri": "https://localhost:8080/"
        },
        "outputId": "43fc1067-23a4-4629-bdff-7f8d06a787b2"
      },
      "execution_count": null,
      "outputs": [
        {
          "output_type": "stream",
          "name": "stdout",
          "text": [
            "-11.11%\n"
          ]
        }
      ]
    },
    {
      "cell_type": "markdown",
      "source": [
        "# Exercícios (respostas na próxima aula!)"
      ],
      "metadata": {
        "id": "UwiHNmv9cjaW"
      }
    },
    {
      "cell_type": "code",
      "source": [
        "# a lista abaixo diz se uma certa pessoa estava doente ou não\n",
        "# qual a porcentagem de doentes?\n",
        "doente = [True, False, False, False, True, True, False, True]"
      ],
      "metadata": {
        "id": "MMm4_cyVcknY"
      },
      "execution_count": null,
      "outputs": []
    },
    {
      "cell_type": "code",
      "source": [
        "# abaixo estão duas listas\n",
        "# doente diz se a pessoa estava doente ou não\n",
        "# exame diz o que o resultado do exame disse sobre a pessoa\n",
        "# qual a acurácia desse teste?\n",
        "doente = [True, False, False, False, True, True, False, True]\n",
        "exame  = [True, True, False, False, False, True, False, True]"
      ],
      "metadata": {
        "id": "bdbQpb-Ge4Iw"
      },
      "execution_count": null,
      "outputs": []
    },
    {
      "cell_type": "code",
      "source": [
        "# uma empresa decidiu fechar todas as lojas que tiveram\n",
        "# lucro abaixo da média\n",
        "# quantas lojas serão fechadas?\n",
        "lojas = [55, 10, 3, 50, 5, 30, 39, 1, 9]"
      ],
      "metadata": {
        "id": "PsvcBJvjfHsW"
      },
      "execution_count": null,
      "outputs": []
    },
    {
      "cell_type": "code",
      "source": [
        "# o batimento cardíaco ideal em descanso é 70\n",
        "# mas se tiver uma margem de erro de até 25% ainda é aceitável\n",
        "# quantas pessoas estão com batimento dentro do aceitável?\n",
        "batimentos = [70, 90, 77, 81, 50, 60, 73]"
      ],
      "metadata": {
        "id": "VUZhIswFfa-U"
      },
      "execution_count": null,
      "outputs": []
    }
  ]
}