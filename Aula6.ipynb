{
  "nbformat": 4,
  "nbformat_minor": 0,
  "metadata": {
    "colab": {
      "provenance": []
    },
    "kernelspec": {
      "name": "python3",
      "display_name": "Python 3"
    },
    "language_info": {
      "name": "python"
    }
  },
  "cells": [
    {
      "cell_type": "markdown",
      "source": [
        "# Exercícios da Última Aula"
      ],
      "metadata": {
        "id": "o8bmVJvqTIFA"
      }
    },
    {
      "cell_type": "code",
      "execution_count": 27,
      "metadata": {
        "id": "vEU_McBBTCzM"
      },
      "outputs": [],
      "source": [
        "# a lista abaixo diz se uma certa pessoa estava doente ou não\n",
        "# qual a porcentagem de doentes?\n",
        "doente = [True, False, False, False, True, True, False, True]"
      ]
    },
    {
      "cell_type": "code",
      "source": [
        "# abaixo estão duas listas\n",
        "# doente diz se a pessoa estava doente ou não\n",
        "# exame diz o que o resultado do exame disse sobre a pessoa\n",
        "# qual a acurácia desse teste?\n",
        "doente = [True, False, False, False, True, True, False, True]\n",
        "exame  = [True, True, False, False, False, True, False, True]"
      ],
      "metadata": {
        "id": "gspD4pl0TNLM"
      },
      "execution_count": null,
      "outputs": []
    },
    {
      "cell_type": "code",
      "source": [
        "# uma empresa decidiu fechar todas as lojas que tiveram\n",
        "# lucro abaixo da média\n",
        "# quantas lojas serão fechadas?\n",
        "lojas = [55, 10, 3, 50, 5, 30, 39, 1, 9]"
      ],
      "metadata": {
        "id": "LqMroSAPTPBH"
      },
      "execution_count": null,
      "outputs": []
    },
    {
      "cell_type": "code",
      "source": [
        "# o batimento cardíaco ideal em descanso é 70\n",
        "# mas se tiver uma margem de erro de até 25% ainda é aceitável\n",
        "# quantas pessoas estão com batimento dentro do aceitável?\n",
        "batimentos = [70, 90, 77, 81, 50, 60, 73]"
      ],
      "metadata": {
        "id": "brfohBTqTRDd"
      },
      "execution_count": null,
      "outputs": []
    },
    {
      "cell_type": "markdown",
      "source": [
        "# Novos Exercícios"
      ],
      "metadata": {
        "id": "o0lWymVoTdpo"
      }
    },
    {
      "cell_type": "code",
      "source": [
        "# Exercício 1: qual das turmas a seguir tem a maior idade média?\n",
        "turma1 = [20, 22, 21, 23, 20]\n",
        "turma2 = [22, 23, 21, 21, 18]"
      ],
      "metadata": {
        "id": "oMQxv-TbTTMj"
      },
      "execution_count": null,
      "outputs": []
    },
    {
      "cell_type": "code",
      "source": [
        "# Exercício 2: qual dos dois times a seguir é melhor?\n",
        "# dados time1:\n",
        "vitorias1 = 20\n",
        "derrotas1 = 11\n",
        "\n",
        "#dados time2:\n",
        "vitorias2 = 13\n",
        "derrotas2 = 6"
      ],
      "metadata": {
        "id": "hLUXDBgnU4mX"
      },
      "execution_count": null,
      "outputs": []
    },
    {
      "cell_type": "code",
      "source": [
        "# Exercício 3: a lista a seguir tem a idade de várias pessoas numa festa\n",
        "# qual a porcentagem de maiores de idade na festa?\n",
        "idades = [18, 19, 22, 17, 13, 20, 15, 16, 16, 23, 29]"
      ],
      "metadata": {
        "id": "dpA-ZRTKVcbO"
      },
      "execution_count": null,
      "outputs": []
    },
    {
      "cell_type": "code",
      "source": [
        "# Exercício 4: qual a média dos produtos que custam mais que 40?\n",
        "produtos = [23, 47, 62, 44, 21, 8, 19, 88]"
      ],
      "metadata": {
        "id": "ll8-kMtmUioG"
      },
      "execution_count": null,
      "outputs": []
    },
    {
      "cell_type": "code",
      "source": [
        "# Exercício 5: qual a média dos salários abaixo?\n",
        "# qual a média após removermos os outliers?\n",
        "# considere que um outlier é um número menor que (média - desvio padrão)\n",
        "# ou maior que (média + desvio padrão)\n",
        "salarios = [1200, 700, 30000, 5000, 13000, 6360, 8690, 1230, 1100, 1976, 10, 13000, 42000,\n",
        "            9600, 6000, 8500, 100, 8700, 8731]"
      ],
      "metadata": {
        "id": "sNBJbOAEWBR7"
      },
      "execution_count": null,
      "outputs": []
    },
    {
      "cell_type": "code",
      "source": [
        "# Exercício 6: calcule a mediana dos dados anteriores e compare com a média\n",
        "# após remover os outliers"
      ],
      "metadata": {
        "id": "qTdbv0lZW-3d"
      },
      "execution_count": null,
      "outputs": []
    },
    {
      "cell_type": "code",
      "source": [
        "# Exercício 7: um certo exame médico para uma doença foi testado em 300 pessoas\n",
        "# 76 estão doentes, as outras não doentes\n",
        "# dos doentes, 50 receberam resultado positivo (e as outras negativo)\n",
        "# dos não doentes, apenas 13 receberam resultado positivo\n",
        "# qual a acurácia, especificidade e sensibilidade"
      ],
      "metadata": {
        "id": "7Eyz-AsGXwgz"
      },
      "execution_count": null,
      "outputs": []
    }
  ]
}