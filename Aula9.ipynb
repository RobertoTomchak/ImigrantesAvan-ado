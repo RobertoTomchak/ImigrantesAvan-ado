{
  "cells": [
    {
      "cell_type": "markdown",
      "metadata": {
        "id": "RPhxokbd74q3"
      },
      "source": [
        "# Exercícios: Pandas"
      ]
    },
    {
      "cell_type": "code",
      "execution_count": 1,
      "metadata": {},
      "outputs": [],
      "source": [
        "import pandas as pd"
      ]
    },
    {
      "cell_type": "code",
      "execution_count": 2,
      "metadata": {
        "collapsed": true,
        "id": "H5fMC8Xg4_qP"
      },
      "outputs": [],
      "source": [
        "# 1. Crie uma tabela contendo as seguintes informações:\n",
        "# nome\tdepartamento\tidade\tsalario\n",
        "# Ana\tVendas\t28\t3500\n",
        "# Carlos TI\t34\t5500\n",
        "# Beatriz\tMarketing\t26\t3200\n",
        "# Daniel\tRecursos Humanos\t45\t6200\n",
        "# Eduardo\tTI\t29\t4800\n"
      ]
    },
    {
      "cell_type": "code",
      "execution_count": 3,
      "metadata": {
        "id": "LrdJ7ysg-Kof"
      },
      "outputs": [],
      "source": [
        "# 2. Adicione a seguinte coluna à tabela:\n",
        "# anos_de_experiencia\n",
        "# 5 / 10 / 3 / 20 / 7\n"
      ]
    },
    {
      "cell_type": "code",
      "execution_count": 4,
      "metadata": {
        "id": "v0dlNpcC9O7i"
      },
      "outputs": [],
      "source": [
        "# 3. Imprima somente o nome e salário dos funcionários maiores de 30 anos.\n"
      ]
    },
    {
      "cell_type": "code",
      "execution_count": 6,
      "metadata": {
        "id": "Hzj_-PlL-ZUE"
      },
      "outputs": [],
      "source": [
        "# 4. Qual a média, mediana, moda e desvio padrão dos salários dos funcionários?\n"
      ]
    },
    {
      "cell_type": "code",
      "execution_count": 7,
      "metadata": {
        "id": "WJtdUw68-81W"
      },
      "outputs": [],
      "source": [
        "# 5. Qual funcionário recebe o maior salário? Ele é o funcionário mais velho?"
      ]
    },
    {
      "cell_type": "code",
      "execution_count": 8,
      "metadata": {
        "id": "oTJVmpsopTXH"
      },
      "outputs": [],
      "source": [
        "import pandas as pd\n",
        "import io\n",
        "import requests\n",
        "url = \"https://raw.githubusercontent.com/robertotomchak/imigrantesavancado/main/dados_enem.csv\"\n",
        "s = requests.get(url).content\n",
        "df2 = pd.read_csv(io.StringIO(s.decode('utf-8')))\n"
      ]
    },
    {
      "cell_type": "code",
      "execution_count": 9,
      "metadata": {
        "colab": {
          "base_uri": "https://localhost:8080/",
          "height": 444
        },
        "id": "YdqhIGdJsa_N",
        "outputId": "4d0e21ee-c457-4a49-d54c-2d3c36c3998d"
      },
      "outputs": [
        {
          "data": {
            "text/html": [
              "<div>\n",
              "<style scoped>\n",
              "    .dataframe tbody tr th:only-of-type {\n",
              "        vertical-align: middle;\n",
              "    }\n",
              "\n",
              "    .dataframe tbody tr th {\n",
              "        vertical-align: top;\n",
              "    }\n",
              "\n",
              "    .dataframe thead th {\n",
              "        text-align: right;\n",
              "    }\n",
              "</style>\n",
              "<table border=\"1\" class=\"dataframe\">\n",
              "  <thead>\n",
              "    <tr style=\"text-align: right;\">\n",
              "      <th></th>\n",
              "      <th>NU_INSCRICAO</th>\n",
              "      <th>TP_SEXO</th>\n",
              "      <th>TP_ESTADO_CIVIL</th>\n",
              "      <th>TP_COR_RACA</th>\n",
              "      <th>TP_NACIONALIDADE</th>\n",
              "      <th>TP_ESCOLA</th>\n",
              "      <th>NO_MUNICIPIO_ESC</th>\n",
              "      <th>SG_UF_ESC</th>\n",
              "      <th>NU_NOTA_CN</th>\n",
              "      <th>NU_NOTA_CH</th>\n",
              "      <th>NU_NOTA_LC</th>\n",
              "      <th>NU_NOTA_MT</th>\n",
              "      <th>TP_LINGUA</th>\n",
              "      <th>NU_NOTA_REDACAO</th>\n",
              "      <th>NU_IDADE</th>\n",
              "    </tr>\n",
              "  </thead>\n",
              "  <tbody>\n",
              "    <tr>\n",
              "      <th>0</th>\n",
              "      <td>210055201589</td>\n",
              "      <td>F</td>\n",
              "      <td>Solteiro(a)</td>\n",
              "      <td>Parda</td>\n",
              "      <td>Brasileiro(a)</td>\n",
              "      <td>Publica</td>\n",
              "      <td>Estância</td>\n",
              "      <td>SE</td>\n",
              "      <td>0.0</td>\n",
              "      <td>0.0</td>\n",
              "      <td>0.0</td>\n",
              "      <td>0.0</td>\n",
              "      <td>Espanhol</td>\n",
              "      <td>0.0</td>\n",
              "      <td>23</td>\n",
              "    </tr>\n",
              "    <tr>\n",
              "      <th>1</th>\n",
              "      <td>210056717205</td>\n",
              "      <td>F</td>\n",
              "      <td>Solteiro(a)</td>\n",
              "      <td>Parda</td>\n",
              "      <td>Brasileiro(a)</td>\n",
              "      <td>Publica</td>\n",
              "      <td>Aracati</td>\n",
              "      <td>CE</td>\n",
              "      <td>436.7</td>\n",
              "      <td>420.0</td>\n",
              "      <td>512.6</td>\n",
              "      <td>430.4</td>\n",
              "      <td>Espanhol</td>\n",
              "      <td>560.0</td>\n",
              "      <td>20</td>\n",
              "    </tr>\n",
              "    <tr>\n",
              "      <th>2</th>\n",
              "      <td>210056012033</td>\n",
              "      <td>F</td>\n",
              "      <td>Solteiro(a)</td>\n",
              "      <td>Branca</td>\n",
              "      <td>Brasileiro(a)</td>\n",
              "      <td>Publica</td>\n",
              "      <td>São Paulo</td>\n",
              "      <td>SP</td>\n",
              "      <td>819.5</td>\n",
              "      <td>684.9</td>\n",
              "      <td>657.8</td>\n",
              "      <td>905.5</td>\n",
              "      <td>Ingles</td>\n",
              "      <td>900.0</td>\n",
              "      <td>18</td>\n",
              "    </tr>\n",
              "    <tr>\n",
              "      <th>3</th>\n",
              "      <td>210056292241</td>\n",
              "      <td>M</td>\n",
              "      <td>Solteiro(a)</td>\n",
              "      <td>Parda</td>\n",
              "      <td>Brasileiro(a)</td>\n",
              "      <td>Publica</td>\n",
              "      <td>Goianésia</td>\n",
              "      <td>GO</td>\n",
              "      <td>442.4</td>\n",
              "      <td>579.2</td>\n",
              "      <td>582.7</td>\n",
              "      <td>551.9</td>\n",
              "      <td>Ingles</td>\n",
              "      <td>740.0</td>\n",
              "      <td>17</td>\n",
              "    </tr>\n",
              "    <tr>\n",
              "      <th>4</th>\n",
              "      <td>210054772114</td>\n",
              "      <td>F</td>\n",
              "      <td>Solteiro(a)</td>\n",
              "      <td>Parda</td>\n",
              "      <td>Brasileiro(a)</td>\n",
              "      <td>Publica</td>\n",
              "      <td>Santarém</td>\n",
              "      <td>PA</td>\n",
              "      <td>461.4</td>\n",
              "      <td>485.9</td>\n",
              "      <td>448.9</td>\n",
              "      <td>433.6</td>\n",
              "      <td>Espanhol</td>\n",
              "      <td>520.0</td>\n",
              "      <td>18</td>\n",
              "    </tr>\n",
              "    <tr>\n",
              "      <th>...</th>\n",
              "      <td>...</td>\n",
              "      <td>...</td>\n",
              "      <td>...</td>\n",
              "      <td>...</td>\n",
              "      <td>...</td>\n",
              "      <td>...</td>\n",
              "      <td>...</td>\n",
              "      <td>...</td>\n",
              "      <td>...</td>\n",
              "      <td>...</td>\n",
              "      <td>...</td>\n",
              "      <td>...</td>\n",
              "      <td>...</td>\n",
              "      <td>...</td>\n",
              "      <td>...</td>\n",
              "    </tr>\n",
              "    <tr>\n",
              "      <th>951939</th>\n",
              "      <td>210055668087</td>\n",
              "      <td>M</td>\n",
              "      <td>Nao informado</td>\n",
              "      <td>Parda</td>\n",
              "      <td>Brasileiro(a)</td>\n",
              "      <td>Publica</td>\n",
              "      <td>Ipatinga</td>\n",
              "      <td>MG</td>\n",
              "      <td>487.6</td>\n",
              "      <td>495.6</td>\n",
              "      <td>545.5</td>\n",
              "      <td>597.4</td>\n",
              "      <td>Ingles</td>\n",
              "      <td>580.0</td>\n",
              "      <td>17</td>\n",
              "    </tr>\n",
              "    <tr>\n",
              "      <th>951940</th>\n",
              "      <td>210057205644</td>\n",
              "      <td>F</td>\n",
              "      <td>Casado(a)</td>\n",
              "      <td>Branca</td>\n",
              "      <td>Brasileiro(a)</td>\n",
              "      <td>Publica</td>\n",
              "      <td>Caruaru</td>\n",
              "      <td>PE</td>\n",
              "      <td>0.0</td>\n",
              "      <td>0.0</td>\n",
              "      <td>0.0</td>\n",
              "      <td>0.0</td>\n",
              "      <td>Espanhol</td>\n",
              "      <td>0.0</td>\n",
              "      <td>43</td>\n",
              "    </tr>\n",
              "    <tr>\n",
              "      <th>951941</th>\n",
              "      <td>210056699189</td>\n",
              "      <td>M</td>\n",
              "      <td>Solteiro(a)</td>\n",
              "      <td>Branca</td>\n",
              "      <td>Brasileiro(a)</td>\n",
              "      <td>Publica</td>\n",
              "      <td>Lages</td>\n",
              "      <td>SC</td>\n",
              "      <td>527.9</td>\n",
              "      <td>627.0</td>\n",
              "      <td>583.3</td>\n",
              "      <td>637.1</td>\n",
              "      <td>Ingles</td>\n",
              "      <td>660.0</td>\n",
              "      <td>17</td>\n",
              "    </tr>\n",
              "    <tr>\n",
              "      <th>951942</th>\n",
              "      <td>210056983033</td>\n",
              "      <td>M</td>\n",
              "      <td>Solteiro(a)</td>\n",
              "      <td>Parda</td>\n",
              "      <td>Brasileiro(a)</td>\n",
              "      <td>Privada</td>\n",
              "      <td>Guaíra</td>\n",
              "      <td>SP</td>\n",
              "      <td>0.0</td>\n",
              "      <td>0.0</td>\n",
              "      <td>0.0</td>\n",
              "      <td>0.0</td>\n",
              "      <td>Ingles</td>\n",
              "      <td>0.0</td>\n",
              "      <td>18</td>\n",
              "    </tr>\n",
              "    <tr>\n",
              "      <th>951943</th>\n",
              "      <td>210056307777</td>\n",
              "      <td>F</td>\n",
              "      <td>Casado(a)</td>\n",
              "      <td>Parda</td>\n",
              "      <td>Brasileiro(a)</td>\n",
              "      <td>Publica</td>\n",
              "      <td>Goiânia</td>\n",
              "      <td>GO</td>\n",
              "      <td>0.0</td>\n",
              "      <td>0.0</td>\n",
              "      <td>0.0</td>\n",
              "      <td>0.0</td>\n",
              "      <td>Espanhol</td>\n",
              "      <td>0.0</td>\n",
              "      <td>17</td>\n",
              "    </tr>\n",
              "  </tbody>\n",
              "</table>\n",
              "<p>951944 rows × 15 columns</p>\n",
              "</div>"
            ],
            "text/plain": [
              "        NU_INSCRICAO TP_SEXO TP_ESTADO_CIVIL TP_COR_RACA TP_NACIONALIDADE   \n",
              "0       210055201589       F     Solteiro(a)       Parda    Brasileiro(a)  \\\n",
              "1       210056717205       F     Solteiro(a)       Parda    Brasileiro(a)   \n",
              "2       210056012033       F     Solteiro(a)      Branca    Brasileiro(a)   \n",
              "3       210056292241       M     Solteiro(a)       Parda    Brasileiro(a)   \n",
              "4       210054772114       F     Solteiro(a)       Parda    Brasileiro(a)   \n",
              "...              ...     ...             ...         ...              ...   \n",
              "951939  210055668087       M   Nao informado       Parda    Brasileiro(a)   \n",
              "951940  210057205644       F       Casado(a)      Branca    Brasileiro(a)   \n",
              "951941  210056699189       M     Solteiro(a)      Branca    Brasileiro(a)   \n",
              "951942  210056983033       M     Solteiro(a)       Parda    Brasileiro(a)   \n",
              "951943  210056307777       F       Casado(a)       Parda    Brasileiro(a)   \n",
              "\n",
              "       TP_ESCOLA NO_MUNICIPIO_ESC SG_UF_ESC  NU_NOTA_CN  NU_NOTA_CH   \n",
              "0        Publica         Estância        SE         0.0         0.0  \\\n",
              "1        Publica          Aracati        CE       436.7       420.0   \n",
              "2        Publica        São Paulo        SP       819.5       684.9   \n",
              "3        Publica        Goianésia        GO       442.4       579.2   \n",
              "4        Publica         Santarém        PA       461.4       485.9   \n",
              "...          ...              ...       ...         ...         ...   \n",
              "951939   Publica         Ipatinga        MG       487.6       495.6   \n",
              "951940   Publica          Caruaru        PE         0.0         0.0   \n",
              "951941   Publica            Lages        SC       527.9       627.0   \n",
              "951942   Privada           Guaíra        SP         0.0         0.0   \n",
              "951943   Publica          Goiânia        GO         0.0         0.0   \n",
              "\n",
              "        NU_NOTA_LC  NU_NOTA_MT TP_LINGUA  NU_NOTA_REDACAO  NU_IDADE  \n",
              "0              0.0         0.0  Espanhol              0.0        23  \n",
              "1            512.6       430.4  Espanhol            560.0        20  \n",
              "2            657.8       905.5    Ingles            900.0        18  \n",
              "3            582.7       551.9    Ingles            740.0        17  \n",
              "4            448.9       433.6  Espanhol            520.0        18  \n",
              "...            ...         ...       ...              ...       ...  \n",
              "951939       545.5       597.4    Ingles            580.0        17  \n",
              "951940         0.0         0.0  Espanhol              0.0        43  \n",
              "951941       583.3       637.1    Ingles            660.0        17  \n",
              "951942         0.0         0.0    Ingles              0.0        18  \n",
              "951943         0.0         0.0  Espanhol              0.0        17  \n",
              "\n",
              "[951944 rows x 15 columns]"
            ]
          },
          "execution_count": 9,
          "metadata": {},
          "output_type": "execute_result"
        }
      ],
      "source": [
        "df2"
      ]
    },
    {
      "cell_type": "markdown",
      "metadata": {
        "id": "xkLayhE26cdE"
      },
      "source": [
        "Utilizando os dados do ENEM responda:"
      ]
    },
    {
      "cell_type": "code",
      "execution_count": 10,
      "metadata": {
        "colab": {
          "base_uri": "https://localhost:8080/"
        },
        "id": "RMYt2uHs2WsA",
        "outputId": "6f85da5e-355b-458d-c272-aa169af3c96f"
      },
      "outputs": [],
      "source": [
        "# 6. Quantos candidados de Curitiba fizeram a prova?\n",
        "\n"
      ]
    },
    {
      "cell_type": "code",
      "execution_count": 11,
      "metadata": {
        "colab": {
          "base_uri": "https://localhost:8080/"
        },
        "id": "RO0ZY2oK2EJD",
        "outputId": "0b6ba1d2-7b68-499f-98c3-a932037d5fe9"
      },
      "outputs": [],
      "source": [
        "# 7. Quantos estudantes não fizeram a prova? Isto é, zeraram todas as provas.\n"
      ]
    },
    {
      "cell_type": "code",
      "execution_count": 12,
      "metadata": {
        "colab": {
          "base_uri": "https://localhost:8080/"
        },
        "id": "Pu6V3nr6uzKd",
        "outputId": "7d769b1c-8ca6-4f8f-cbe5-3ff0f10ad0e7"
      },
      "outputs": [],
      "source": [
        "# 8. Dado um estudante aleatório, qual a probabilidade dele ter uma nota maior que 700 em Matemática?\n"
      ]
    },
    {
      "cell_type": "code",
      "execution_count": 13,
      "metadata": {
        "colab": {
          "base_uri": "https://localhost:8080/"
        },
        "id": "NQNdPC7iscyO",
        "outputId": "a3e0df97-dd84-4745-a04b-55f449b0ac72"
      },
      "outputs": [],
      "source": [
        "# 9. Compare a porcentagem de estudantes que escolheram inglês e espanhol como língua estrangeira.\n",
        "# Qual a língua estrangeira mais escolhida?\n"
      ]
    },
    {
      "cell_type": "code",
      "execution_count": 14,
      "metadata": {
        "colab": {
          "base_uri": "https://localhost:8080/"
        },
        "id": "T-mrnC1ou9aS",
        "outputId": "94d6cf1a-09c3-494c-8e83-d5747f9a15eb"
      },
      "outputs": [],
      "source": [
        "# 10. Quantos estudantes tiveram nota na redação igual a 1000?\n",
        "# A maioria era de escola pública ou privada?\n"
      ]
    },
    {
      "cell_type": "code",
      "execution_count": null,
      "metadata": {},
      "outputs": [],
      "source": []
    }
  ],
  "metadata": {
    "colab": {
      "provenance": []
    },
    "kernelspec": {
      "display_name": "Python 3",
      "name": "python3"
    },
    "language_info": {
      "codemirror_mode": {
        "name": "ipython",
        "version": 3
      },
      "file_extension": ".py",
      "mimetype": "text/x-python",
      "name": "python",
      "nbconvert_exporter": "python",
      "pygments_lexer": "ipython3",
      "version": "3.10.12"
    }
  },
  "nbformat": 4,
  "nbformat_minor": 0
}
